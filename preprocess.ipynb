{
 "cells": [
  {
   "cell_type": "code",
   "execution_count": null,
   "metadata": {},
   "outputs": [],
   "source": [
    "!pip install opencv-python"
   ]
  },
  {
   "cell_type": "code",
   "execution_count": null,
   "metadata": {},
   "outputs": [],
   "source": [
    "!apt-get update\n",
    "!apt-get install ffmpeg libsm6 libxext6  -y\n"
   ]
  },
  {
   "cell_type": "code",
   "execution_count": null,
   "id": "previous-feeding",
   "metadata": {},
   "outputs": [],
   "source": [
    "import tensorflow as tf\n",
    "import cv2\n",
    "import shutil\n",
    "import os\n",
    "import numpy as np\n",
    "import utils\n"
   ]
  },
  {
   "cell_type": "code",
   "execution_count": null,
   "metadata": {},
   "outputs": [],
   "source": [
    "path = utils.fetch_videos()\n",
    "if path is not None:\n",
    "    utils.separate_videos()"
   ]
  },
  {
   "cell_type": "code",
   "execution_count": null,
   "id": "civil-leonard",
   "metadata": {},
   "outputs": [],
   "source": [
    "result_width = 128\n",
    "result_height = 128\n",
    "\n",
    "def resize_frame(frame):\n",
    "    center_x = frame.shape[0] / 2\n",
    "    center_y = frame.shape[1] / 2\n",
    "    \n",
    "    size = frame.shape[0]\n",
    "    x = center_x - size/2\n",
    "    y = center_y - size/2\n",
    "    \n",
    "    frame = frame[:, int(y):int(y+size)]\n",
    "    \n",
    "    frame = cv2.resize(frame,(result_width,result_height),fx=0,fy=0, interpolation = cv2.INTER_CUBIC)\n",
    "    \n",
    "    return frame\n"
   ]
  },
  {
   "cell_type": "code",
   "execution_count": null,
   "id": "removed-steam",
   "metadata": {},
   "outputs": [],
   "source": [
    "base = 'videos/'\n",
    "\n",
    "def process_class(class_name):\n",
    "    folder_path = base+class_name\n",
    "    videos = os.listdir(folder_path)\n",
    "    \n",
    "    fourcc = cv2.VideoWriter_fourcc(*'MPEG')\n",
    "    videos.sort(key=lambda x: int(x.split('.')[0]))\n",
    "    \n",
    "    len_videos = len(videos)\n",
    "    videoN = 1\n",
    "    \n",
    "    for video in videos:\n",
    "        if os.path.isfile(folder_path+'/'+video):\n",
    "            \n",
    "            input_file = folder_path+'/'+video\n",
    "\n",
    "            video_name = video.split('.')[0]\n",
    "            output_folder = 'output/'+class_name\n",
    "\n",
    "            if not os.path.exists(output_folder):\n",
    "                os.mkdir(output_folder)\n",
    "                \n",
    "            cap = cv2.VideoCapture(input_file)\n",
    "            width = cap.get(3)\n",
    "            heightht = cap.get(4)\n",
    "            \n",
    "            tensors_list = []\n",
    "\n",
    "            frameN = 1\n",
    "\n",
    "            if cap.isOpened() is False:\n",
    "                raise Exception('Error opening file!')\n",
    "            while cap.isOpened():\n",
    "                ret, image = cap.read()\n",
    "\n",
    "                if image is None:\n",
    "                    break\n",
    "\n",
    "                image = resize_frame(image)\n",
    "                tensors_list.append(image)\n",
    "\n",
    "                frameN += 1\n",
    "            \n",
    "            tensor = np.array(tensors_list)\n",
    "            np.save(f'{output_folder+\"/\"+video_name}.npy', tensor)\n",
    "\n",
    "            #print(f'Class {class_name}: video {videoN}/{len_videos}')\n",
    "            videoN += 1\n",
    "    print(f'Class {class_name} finished')"
   ]
  },
  {
   "cell_type": "code",
   "execution_count": null,
   "id": "precious-today",
   "metadata": {},
   "outputs": [],
   "source": [
    "process_class('kiss')\n",
    "process_class('highfive')\n",
    "process_class('handshake')\n",
    "process_class('hug')"
   ]
  }
 ],
 "metadata": {
  "environment": {
   "name": "tf2-gpu.2-4.mnightly-2021-02-02-debian-10-test",
   "type": "gcloud",
   "uri": "gcr.io/deeplearning-platform-release/tf2-gpu.2-4:mnightly-2021-02-02-debian-10-test"
  },
  "kernelspec": {
   "display_name": "Python 3",
   "language": "python",
   "name": "python3"
  },
  "language_info": {
   "codemirror_mode": {
    "name": "ipython",
    "version": 3
   },
   "file_extension": ".py",
   "mimetype": "text/x-python",
   "name": "python",
   "nbconvert_exporter": "python",
   "pygments_lexer": "ipython3",
   "version": "3.6.9"
  }
 },
 "nbformat": 4,
 "nbformat_minor": 5
}