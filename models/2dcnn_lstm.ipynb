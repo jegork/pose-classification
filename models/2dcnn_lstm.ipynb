{
 "metadata": {
  "language_info": {
   "codemirror_mode": {
    "name": "ipython",
    "version": 3
   },
   "file_extension": ".py",
   "mimetype": "text/x-python",
   "name": "python",
   "nbconvert_exporter": "python",
   "pygments_lexer": "ipython3",
   "version": 3
  },
  "orig_nbformat": 2
 },
 "nbformat": 4,
 "nbformat_minor": 2,
 "cells": [
  {
   "cell_type": "code",
   "execution_count": null,
   "metadata": {},
   "outputs": [],
   "source": [
    "import tensorflow as tf\n",
    "from tensorflow.keras.applications import VGG16\n",
    "from tensorflow.keras.layers import *\n",
    "from tensorflow.keras.models import Model, Sequential\n",
    "from tensorflow.keras.optimizers import Adam\n",
    "import os\n",
    "import numpy as np\n",
    "from operator import itemgetter \n",
    "from random import shuffle \n",
    "import optuna\n",
    "import matplotlib.pyplot as plt\n",
    "from sklearn.model_selection import KFold"
   ]
  },
  {
   "cell_type": "code",
   "execution_count": null,
   "metadata": {},
   "outputs": [],
   "source": [
    "files = []\n",
    "classes = ['kiss', 'handshake', 'hug', 'highfive']\n",
    "\n",
    "for class_n, c in enumerate(classes):\n",
    "    f = os.listdir('output/'+c)\n",
    "    f = list(map(lambda x: 'output/'+c+'/'+x, f))\n",
    "    \n",
    "    filtered = list(filter(lambda x: x.split('.')[-1] == 'npy', f))\n",
    "    \n",
    "    files.extend(filtered)"
   ]
  },
  {
   "cell_type": "code",
   "execution_count": null,
   "metadata": {},
   "outputs": [],
   "source": [
    "def convertClass(classname):\n",
    "    if classname == None:\n",
    "        raise Error('No classname!')\n",
    "        \n",
    "    mapping = {key: value for (value, key) in enumerate(classes)}\n",
    "    \n",
    "    return mapping[classname]\n",
    "\n",
    "def onehot(y):\n",
    "    onehot = np.zeros((4))\n",
    "    onehot[y] = 1\n",
    "    return tf.constant(onehot)\n",
    "\n",
    "def batcherize_train():\n",
    "    indices = train_idx\n",
    "\n",
    "    for _ in range(epochs):\n",
    "        for idx in indices:\n",
    "            df = np.load(files[idx])/256\n",
    "            class_name = files[idx].split('/')[-2]\n",
    "            class_int = convertClass(class_name)\n",
    "            class_onehot = onehot(class_int)\n",
    "\n",
    "            yield np.array([df]), np.array([class_onehot])\n",
    "\n",
    "def batcherize_test():\n",
    "    indices = test_idx\n",
    "        \n",
    "    for _ in range(epochs+1):\n",
    "        for idx in indices:\n",
    "            df = np.load(files[idx])/256\n",
    "            class_name = files[idx].split('/')[-2]\n",
    "            class_int = convertClass(class_name)\n",
    "            class_onehot = onehot(class_int)\n",
    "\n",
    "            yield np.array([df]), np.array([class_onehot])"
   ]
  },
  {
   "cell_type": "code",
   "execution_count": null,
   "metadata": {},
   "outputs": [],
   "source": [
    "epochs = 60\n",
    "test_size = 0.25\n",
    "\n",
    "shuffled_idx = np.random.permutation(len(files))\n",
    "split_at = int(len(shuffled_idx) * (1-test_size))\n",
    "\n",
    "train_idx = shuffled_idx[:split_at]\n",
    "test_idx = shuffled_idx[split_at:]\n",
    "\n",
    "train_size = len(train_idx)\n",
    "test_size = len(test_idx)"
   ]
  },
  {
   "cell_type": "code",
   "execution_count": null,
   "metadata": {},
   "outputs": [],
   "source": [
    "model = Sequential()\n",
    "\n",
    "model.add(InputLayer((None, 128, 128,3)))\n",
    "model.add(TimeDistributed(\n",
    "    Conv2D(\n",
    "        filters=4, \n",
    "        kernel_size=4, \n",
    "        data_format='channels_last', \n",
    "        padding=\"same\",\n",
    "        kernel_initializer='he_normal',\n",
    "    ), \n",
    "    name='Conv2D'))\n",
    "model.add(TimeDistributed(Flatten(), name='Flatten'))\n",
    "model.add(LSTM(64, dropout=0.3))\n",
    "model.add(Dense(512,kernel_regularizer=tf.keras.regularizers.L2(0.006)))\n",
    "model.add(Dropout(0.45))\n",
    "model.add(Dense(4, activation='softmax'))\n",
    "\n",
    "model.summary()"
   ]
  },
  {
   "cell_type": "code",
   "execution_count": null,
   "metadata": {},
   "outputs": [],
   "source": [
    "model.compile(\n",
    "    optimizer=tf.keras.optimizers.Adam(0.0001), \n",
    "    loss=tf.keras.losses.CategoricalCrossentropy(), \n",
    "    metrics=['accuracy']\n",
    ")\n",
    "\n",
    "def scheduler(epoch, lr):\n",
    "    if epoch < 15:\n",
    "        return lr\n",
    "    else:\n",
    "        return lr * tf.math.exp(-0.1)\n",
    "scheduler = tf.keras.callbacks.LearningRateScheduler(scheduler)\n",
    "\n",
    "h = model.fit(\n",
    "    batcherize_train(),\n",
    "    epochs=epochs, \n",
    "    steps_per_epoch=train_size,\n",
    "    validation_data=batcherize_test(),\n",
    "    validation_steps=test_size,\n",
    ")"
   ]
  },
  {
   "cell_type": "code",
   "execution_count": null,
   "metadata": {},
   "outputs": [],
   "source": [
    "fig, ax = plt.subplots(1, 2, figsize=(16,4))\n",
    "\n",
    "ax[0].plot(h.history['loss'], label='Training')\n",
    "ax[0].plot(h.history['val_loss'], label='Test')\n",
    "ax[0].set_title('Loss')\n",
    "ax[0].legend()\n",
    "\n",
    "ax[1].plot(h.history['accuracy'], label='Training')\n",
    "ax[1].plot(h.history['val_accuracy'], label='Test')\n",
    "ax[1].set_title('Accuracy')\n",
    "ax[1].legend()"
   ]
  },
  {
   "cell_type": "code",
   "execution_count": null,
   "metadata": {},
   "outputs": [],
   "source": [
    "y_pred = model.predict(batcherize_test(), steps=test_size)\n",
    "\n",
    "y_true = []\n",
    "\n",
    "for idx in test_idx:\n",
    "    class_name = files[idx].split('/')[-2]\n",
    "    class_int = convertClass(class_name)\n",
    "    class_onehot = onehot(class_int)\n",
    "\n",
    "    y_true.append(np.array([class_onehot]))\n",
    "    \n",
    "y_true = np.array(y_true)\n",
    "y_true = y_true.reshape(200, 4)\n",
    "y_true = np.argmax(y_true, axis=1)\n",
    "\n",
    "y_pred = np.argmax(y_pred, axis=1)"
   ]
  },
  {
   "cell_type": "code",
   "execution_count": null,
   "metadata": {},
   "outputs": [],
   "source": [
    "conf_m = sns.heatmap(tf.math.confusion_matrix(y_true, y_pred), annot=True, xticklabels=classes, yticklabels=classes)\n",
    "conf_m.set(xlabel='Predicted labels', ylabel='True labels')\n",
    "\n",
    "conf_m.figure.savefig('./graphs/cnn/cnn_confusion_matrix.png', dpi=150, bbox_inches = \"tight\")"
   ]
  }
 ]
}