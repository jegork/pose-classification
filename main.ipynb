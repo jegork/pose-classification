{
 "cells": [
  {
   "cell_type": "code",
   "execution_count": null,
   "id": "narrow-behalf",
   "metadata": {},
   "outputs": [],
   "source": [
    "!pip install git+https://github.com/jegork/tf-pose-estimation\n",
    "!pip install tf_slim"
   ]
  },
  {
   "cell_type": "code",
   "execution_count": null,
   "id": "desperate-reproduction",
   "metadata": {},
   "outputs": [],
   "source": [
    "import os\n",
    "import utils\n",
    "import numpy as np\n",
    "import os\n",
    "import pandas as pd\n",
    "import cv2\n",
    "import matplotlib.pyplot as plt\n",
    "import copy\n",
    "import tensorflow as tf\n",
    "import process_video"
   ]
  },
  {
   "cell_type": "code",
   "execution_count": null,
   "id": "injured-cover",
   "metadata": {},
   "outputs": [],
   "source": [
    "path = utils.fetch_videos()\n",
    "if path is not None:\n",
    "    utils.separate_videos()"
   ]
  },
  {
   "cell_type": "code",
   "execution_count": null,
   "id": "floating-german",
   "metadata": {},
   "outputs": [],
   "source": [
    "process_video.batch('videos/highfive')\n",
    "process_video.batch('videos/handshake')\n",
    "process_video.batch('videos/hug')\n",
    "process_video.batch('videos/kiss')\n",
    "#process_video.batch('videos/negative')"
   ]
  }
 ],
 "metadata": {
  "environment": {
   "name": "tf2-gpu.2-4.mnightly-2021-02-02-debian-10-test",
   "type": "gcloud",
   "uri": "gcr.io/deeplearning-platform-release/tf2-gpu.2-4:mnightly-2021-02-02-debian-10-test"
  },
  "kernelspec": {
   "display_name": "Python [conda env:root] *",
   "language": "python",
   "name": "conda-root-py"
  },
  "language_info": {
   "codemirror_mode": {
    "name": "ipython",
    "version": 3
   },
   "file_extension": ".py",
   "mimetype": "text/x-python",
   "name": "python",
   "nbconvert_exporter": "python",
   "pygments_lexer": "ipython3",
   "version": "3.7.9"
  }
 },
 "nbformat": 4,
 "nbformat_minor": 5
}