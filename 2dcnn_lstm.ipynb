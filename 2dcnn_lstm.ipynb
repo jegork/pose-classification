{
 "metadata": {
  "language_info": {
   "codemirror_mode": {
    "name": "ipython",
    "version": 3
   },
   "file_extension": ".py",
   "mimetype": "text/x-python",
   "name": "python",
   "nbconvert_exporter": "python",
   "pygments_lexer": "ipython3",
   "version": 3
  },
  "orig_nbformat": 2
 },
 "nbformat": 4,
 "nbformat_minor": 2,
 "cells": [
  {
   "cell_type": "code",
   "execution_count": null,
   "metadata": {},
   "outputs": [],
   "source": [
    "import tensorflow as tf\n",
    "from tensorflow.keras.applications import VGG16\n",
    "from tensorflow.keras.layers import *\n",
    "from tensorflow.keras.models import Model, Sequential\n",
    "from tensorflow.keras.optimizers import Adam\n",
    "import os\n",
    "import numpy as np\n",
    "from operator import itemgetter \n",
    "from random import shuffle \n",
    "import optuna\n",
    "import matplotlib.pyplot as plt\n",
    "from sklearn.model_selection import KFold"
   ]
  },
  {
   "cell_type": "code",
   "execution_count": null,
   "metadata": {},
   "outputs": [],
   "source": [
    "files = []\n",
    "classes = ['kiss', 'handshake', 'hug', 'highfive']\n",
    "\n",
    "for class_n, c in enumerate(classes):\n",
    "    f = os.listdir('output/'+c)\n",
    "    f = list(map(lambda x: 'output/'+c+'/'+x, f))\n",
    "    \n",
    "    filtered = list(filter(lambda x: x.split('.')[-1] == 'npy', f))\n",
    "    \n",
    "    files.extend(filtered)"
   ]
  },
  {
   "cell_type": "code",
   "execution_count": null,
   "metadata": {},
   "outputs": [],
   "source": [
    "def convertClass(classname):\n",
    "    if classname == None:\n",
    "        raise Error('No classname!')\n",
    "        \n",
    "    mapping = {key: value for (value, key) in enumerate(classes)}\n",
    "    \n",
    "    return mapping[classname]\n",
    "\n",
    "def onehot(y):\n",
    "    onehot = np.zeros((4))\n",
    "    onehot[y] = 1\n",
    "    return tf.constant(onehot)"
   ]
  },
  {
   "cell_type": "code",
   "execution_count": null,
   "metadata": {},
   "outputs": [],
   "source": [
    "test_size = 0.2\n",
    "\n",
    "shuffled_idx = np.random.permutation(len(files))\n",
    "split_at = int(len(shuffled_idx) * (1-test_size))\n",
    "\n",
    "train_size = len(shuffled_idx[:split_at])\n",
    "test_size = len(shuffled_idx[split_at:])"
   ]
  },
  {
   "cell_type": "code",
   "execution_count": null,
   "metadata": {},
   "outputs": [],
   "source": [
    "epochs = 20\n",
    "\n",
    "def batcherize(files, train=True):\n",
    "    if train:\n",
    "        indices = shuffled_idx[:split_at]\n",
    "    else:\n",
    "        indices = shuffled_idx[split_at:]\n",
    "        \n",
    "    for _ in range(epochs+1):\n",
    "        for idx in indices:\n",
    "            df = np.load(files[idx])/256\n",
    "            class_name = files[idx].split('/')[-2]\n",
    "            class_int = convertClass(class_name)\n",
    "            class_onehot = onehot(class_int)\n",
    "\n",
    "            yield np.array([df]), np.array([class_onehot])\n",
    "            "
   ]
  },
  {
   "cell_type": "code",
   "execution_count": null,
   "metadata": {},
   "outputs": [],
   "source": [
    "epochs = 20\n",
    "\n",
    "def batcherize_train(files=files, train=True):\n",
    "    if train:\n",
    "        indices = shuffled_idx[:split_at]\n",
    "    else:\n",
    "        indices = shuffled_idx[split_at:]\n",
    "        \n",
    "    for _ in range(epochs+1):\n",
    "        for idx in indices:\n",
    "            df = np.load(files[idx])/256\n",
    "            class_name = files[idx].split('/')[-2]\n",
    "            class_int = convertClass(class_name)\n",
    "            class_onehot = onehot(class_int)\n",
    "\n",
    "            yield tf.constant(df), class_onehot\n",
    "            \n",
    "def batcherize_test(files=files, train=False):\n",
    "    if train:\n",
    "        indices = shuffled_idx[:split_at]\n",
    "    else:\n",
    "        indices = shuffled_idx[split_at:]\n",
    "        \n",
    "    for _ in range(epochs+1):\n",
    "        for idx in indices:\n",
    "            df = np.load(files[idx])/256\n",
    "            class_name = files[idx].split('/')[-2]\n",
    "            class_int = convertClass(class_name)\n",
    "            class_onehot = onehot(class_int)\n",
    "\n",
    "            yield tf.constant(df), class_onehot\n",
    "            "
   ]
  },
  {
   "cell_type": "code",
   "execution_count": null,
   "metadata": {},
   "outputs": [],
   "source": [
    "tf_train = tf.data.Dataset.from_generator(batcherize_train, output_types=(tf.dtypes.float32, tf.dtypes.int8))\\\n",
    ".padded_batch(4, padded_shapes=([None, 128, 128, 3], ([4])))\n",
    "\n",
    "tf_test = tf.data.Dataset.from_generator(batcherize_test, output_types=(tf.dtypes.float32, tf.dtypes.int8))\\\n",
    ".padded_batch(4, padded_shapes=([None, 128, 128, 3], ([4])))"
   ]
  },
  {
   "cell_type": "code",
   "execution_count": null,
   "metadata": {},
   "outputs": [],
   "source": [
    "model = Sequential()\n",
    "\n",
    "model.add(InputLayer((None, 128, 128,3)))\n",
    "\n",
    "model.add(TimeDistributed(\n",
    "    Conv2D(\n",
    "        filters=8, \n",
    "        kernel_size=6, \n",
    "        input_shape=(128, 128, 3), \n",
    "        data_format='channels_last', \n",
    "        padding=\"same\",\n",
    "    ), \n",
    "    name='Conv2D'))\n",
    "\n",
    "model.add(TimeDistributed(MaxPooling2D(pool_size=2), name='MaxPooling2D'))\n",
    "model.add(TimeDistributed(Flatten()))\n",
    "\n",
    "model.add(GRU(32, dropout=0.3, recurrent_dropout=0.4, kernel_regularizer=tf.keras.regularizers.L2(0.005)))\n",
    "\n",
    "model.add(Dense(64, kernel_regularizer=tf.keras.regularizers.L2(0.1)))\n",
    "model.add(Dropout(0.3))\n",
    "\n",
    "model.add(Dense(4, activation='softmax'))\n",
    "\n",
    "model.summary()"
   ]
  },
  {
   "cell_type": "code",
   "execution_count": null,
   "metadata": {},
   "outputs": [],
   "source": [
    "def scheduler(epoch, lr):\n",
    "    if epoch < 10:\n",
    "        return lr\n",
    "    else:\n",
    "        return lr * tf.math.exp(-0.1)\n",
    "    \n",
    "scheduler = tf.keras.callbacks.LearningRateScheduler(scheduler)\n",
    "early = tf.keras.callbacks.EarlyStopping(monitor='loss', patience=3, min_delta=0.02)\n",
    "\n",
    "model.compile(optimizer=tf.keras.optimizers.RMSprop(0.001), loss=tf.keras.losses.CategoricalCrossentropy(), metrics=['accuracy'])\n",
    "\n",
    "\n",
    "h = model.fit(\n",
    "    tf_train,\n",
    "    epochs=epochs, \n",
    "    batch_size=4,\n",
    "    steps_per_epoch=train_size/4,\n",
    "    validation_data=tf_test,\n",
    "    validation_steps=test_size/4,\n",
    "    callbacks=[scheduler]\n",
    ")"
   ]
  },
  {
   "cell_type": "code",
   "execution_count": null,
   "metadata": {},
   "outputs": [],
   "source": [
    "fig, ax = plt.subplots(1, 2, figsize=(16,4))\n",
    "\n",
    "ax[0].plot(h.history['loss'], label='Training')\n",
    "ax[0].plot(h.history['val_loss'], label='Test')\n",
    "ax[0].set_title('Loss')\n",
    "ax[0].legend()\n",
    "\n",
    "ax[1].plot(h.history['accuracy'], label='Training')\n",
    "ax[1].plot(h.history['val_accuracy'], label='Test')\n",
    "ax[1].set_title('Accuracy')\n",
    "ax[1].legend()"
   ]
  }
 ]
}