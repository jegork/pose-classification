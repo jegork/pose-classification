{
 "metadata": {
  "language_info": {
   "codemirror_mode": {
    "name": "ipython",
    "version": 3
   },
   "file_extension": ".py",
   "mimetype": "text/x-python",
   "name": "python",
   "nbconvert_exporter": "python",
   "pygments_lexer": "ipython3",
   "version": 3
  },
  "orig_nbformat": 2
 },
 "nbformat": 4,
 "nbformat_minor": 2,
 "cells": [
  {
   "cell_type": "code",
   "execution_count": null,
   "metadata": {},
   "outputs": [],
   "source": [
    "!pip install optuna"
   ]
  },
  {
   "cell_type": "code",
   "execution_count": null,
   "metadata": {},
   "outputs": [],
   "source": [
    "!pip install scikit-learn -q"
   ]
  },
  {
   "cell_type": "code",
   "execution_count": null,
   "metadata": {},
   "outputs": [],
   "source": [
    "import tensorflow as tf\n",
    "from tensorflow.keras.applications import VGG16\n",
    "from tensorflow.keras.layers import *\n",
    "from tensorflow.keras.models import Model, Sequential\n",
    "from tensorflow.keras.optimizers import Adam\n",
    "import os\n",
    "import numpy as np\n",
    "from operator import itemgetter \n",
    "from random import shuffle \n",
    "import optuna\n",
    "import matplotlib.pyplot as plt\n",
    "from sklearn.model_selection import KFold"
   ]
  },
  {
   "cell_type": "code",
   "execution_count": null,
   "metadata": {},
   "outputs": [],
   "source": [
    "files = []\n",
    "classes = ['kiss', 'handshake', 'hug', 'highfive']\n",
    "for class_n, c in enumerate(classes):\n",
    "    f = os.listdir('output/'+c)\n",
    "    f = list(map(lambda x: 'output/'+c+'/'+x, f))\n",
    "    \n",
    "    filtered = list(filter(lambda x: x.split('.')[-1] == 'npy', f))\n",
    "    \n",
    "    files.extend(filtered)"
   ]
  },
  {
   "cell_type": "code",
   "execution_count": null,
   "metadata": {},
   "outputs": [],
   "source": [
    "def convertClass(classname):\n",
    "    if classname == None:\n",
    "        raise Error('No classname!')\n",
    "        \n",
    "    mapping = {key: value for (value, key) in enumerate(classes)}\n",
    "    \n",
    "    return mapping[classname]\n",
    "\n",
    "def onehot(y):\n",
    "    onehot = np.zeros((1, 4))\n",
    "    onehot[np.arange(1),y] = 1\n",
    "    return onehot"
   ]
  },
  {
   "cell_type": "code",
   "execution_count": null,
   "metadata": {},
   "outputs": [],
   "source": [
    "test_size = 0.2\n",
    "\n",
    "shuffled_idx = np.random.permutation(len(files))\n",
    "split_at = int(len(shuffled_idx) * (1-test_size))\n",
    "\n",
    "train_size = len(shuffled_idx[:split_at])\n",
    "test_size = len(shuffled_idx[split_at:])"
   ]
  },
  {
   "cell_type": "code",
   "execution_count": null,
   "metadata": {},
   "outputs": [],
   "source": [
    "epochs = 20\n",
    "\n",
    "def batcherize(files, train=True):\n",
    "    if train:\n",
    "        indices = shuffled_idx[:split_at]\n",
    "    else:\n",
    "        indices = shuffled_idx[split_at:]\n",
    "        \n",
    "    for _ in range(epochs+1):\n",
    "        for idx in indices:\n",
    "            df = np.load(files[idx])/256\n",
    "            class_name = files[idx].split('/')[-2]\n",
    "            class_int = convertClass(class_name)\n",
    "            class_onehot = onehot(class_int)\n",
    "\n",
    "            yield np.array([df]), class_onehot\n",
    "            "
   ]
  },
  {
   "cell_type": "code",
   "execution_count": null,
   "metadata": {},
   "outputs": [],
   "source": [
    "model = Sequential()\n",
    "\n",
    "model.add(InputLayer((None, 128, 128,3)))\n",
    "model.add(TimeDistributed(\n",
    "    Conv2D(\n",
    "        filters=4, \n",
    "        kernel_size=4, \n",
    "        input_shape=(128, 128, 3), \n",
    "        data_format='channels_last', \n",
    "        padding=\"same\",\n",
    "        kernel_initializer='he_normal',\n",
    "    ), \n",
    "    name='Conv2D'))\n",
    "model.add(TimeDistributed(MaxPooling2D(pool_size=4), name='MaxPooling2D'))\n",
    "model.add(TimeDistributed(Flatten(), name='Flatten'))\n",
    "model.add(Dropout(0.5))\n",
    "\n",
    "model.add(LSTM(16))\n",
    "model.add(Dropout(0.3))\n",
    "model.add(Dense(8, kernel_regularizer=tf.keras.regularizers.L2(0.4)))\n",
    "model.add(Dropout(0.5))\n",
    "model.add(Dense(4, activation='softmax'))\n",
    "\n",
    "\n",
    "model.compile(optimizer=tf.keras.optimizers.RMSprop(), loss='cosine_similarity', metrics=['accuracy'])\n",
    "\n",
    "batcherize_train = batcherize(train_X, train_y)\n",
    "batcherize_test = batcherize(test_X, test_y)\n",
    "\n",
    "model.fit(\n",
    "    batcherize(files, True),\n",
    "    batch_size=1, \n",
    "    epochs=epochs, \n",
    "    steps_per_epoch=train_size,\n",
    "    validation_data=batcherize(files, False),\n",
    "    validation_steps=test_size,\n",
    ")"
   ]
  },
  {
   "cell_type": "code",
   "execution_count": null,
   "metadata": {},
   "outputs": [],
   "source": [
    "fig, ax = plt.subplots(1, 2, figsize=(16,4))\n",
    "\n",
    "ax[0].plot(h.history['loss'], label='Training')\n",
    "ax[0].plot(h.history['val_loss'], label='Test')\n",
    "ax[0].set_title('Loss')\n",
    "ax[0].legend()\n",
    "\n",
    "ax[1].plot(h.history['accuracy'], label='Training')\n",
    "ax[1].plot(h.history['val_accuracy'], label='Test')\n",
    "ax[1].set_title('Accuracy')\n",
    "ax[1].legend()"
   ]
  }
 ]
}