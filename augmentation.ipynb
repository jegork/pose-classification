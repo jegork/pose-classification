{
 "metadata": {
  "language_info": {
   "codemirror_mode": {
    "name": "ipython",
    "version": 3
   },
   "file_extension": ".py",
   "mimetype": "text/x-python",
   "name": "python",
   "nbconvert_exporter": "python",
   "pygments_lexer": "ipython3",
   "version": 3
  },
  "orig_nbformat": 2
 },
 "nbformat": 4,
 "nbformat_minor": 2,
 "cells": [
  {
   "cell_type": "code",
   "execution_count": null,
   "metadata": {},
   "outputs": [],
   "source": [
    "from vidaug import augmentors as va\n",
    "import numpy as np\n",
    "import matplotlib.pyplot as plt\n",
    "import os, configparser\n",
    "import cv2"
   ]
  },
  {
   "cell_type": "code",
   "execution_count": null,
   "metadata": {},
   "outputs": [],
   "source": [
    "config = configparser.ConfigParser()\n",
    "config.read('config.ini')\n",
    "\n",
    "matrix_videos_folder = config['FOLDERS']['MatrixVideos']"
   ]
  },
  {
   "cell_type": "code",
   "execution_count": null,
   "metadata": {},
   "outputs": [],
   "source": [
    "#initialize augmentator\n",
    "\n",
    "sometimes05 = lambda aug: va.Sometimes(0.5, aug)\n",
    "\n",
    "seq = va.Sequential([\n",
    "    va.RandomRotate(degrees=35),  \n",
    "    sometimes05(\n",
    "        va.SomeOf([\n",
    "            va.HorizontalFlip(),\n",
    "            va.GaussianBlur(sigma=0.8),\n",
    "            #va.ElasticTransformation(alpha=1, sigma=0),\n",
    "        ], 2),\n",
    "    ),\n",
    "])"
   ]
  },
  {
   "cell_type": "code",
   "execution_count": null,
   "metadata": {},
   "outputs": [],
   "source": [
    "# try on single example\n",
    "v = np.load(matrix_videos_folder+'highfive/0001.npy')\n",
    "new_v = np.zeros(v.shape).astype('uint8')\n",
    "\n",
    "#convert to RGB\n",
    "for i in range(new_v.shape[0]):\n",
    "    new_v[i] = cv2.cvtColor(v[i], cv2.COLOR_BGR2RGB)\n",
    "    \n",
    "video_aug = seq(new_v)\n",
    "plt.imshow(video_aug[0])"
   ]
  },
  {
   "cell_type": "code",
   "execution_count": null,
   "metadata": {},
   "outputs": [],
   "source": [
    "for class_n, c in enumerate(['kiss', 'handshake', 'hug', 'highfive']):\n",
    "    class_folder = os.path.join(matrix_videos_folder, c)\n",
    "    f = os.listdir(class_folder)\n",
    "    f = list(map(lambda x: os.path.join(class_folder, x), f))\n",
    "    \n",
    "    filtered = list(filter(lambda x: x.split('.')[-1] == 'npy', f))\n",
    "    filtered.sort(key=lambda x: int(x.split('/')[-1].split('.')[0]))\n",
    "\n",
    "    # next line commented so it doesn't use the augmented videos\n",
    "    #last_number = int(filtered[-1].split('/')[-1].split('.')[-2].lstrip('0'))\n",
    "    last_number = 50\n",
    "\n",
    "    i = 1\n",
    "    for f in filtered[:50]:\n",
    "        v = np.load(f)\n",
    "        for _ in range(3):\n",
    "            video_aug = seq(v)\n",
    "            filename = str(last_number+i).rjust(4, '0')\n",
    "            np.save(os.path.join(class_folder, filename), video_aug)\n",
    "            i += 1\n",
    "    \n",
    "    print(f'Class {c} (class_n) completed; additional {i} videos created')"
   ]
  }
 ]
}